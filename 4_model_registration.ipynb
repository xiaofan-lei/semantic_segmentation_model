{
  "cells": [
    {
      "cell_type": "markdown",
      "source": [
        "# P8.4 Azure segmentation model registration"
      ],
      "metadata": {},
      "id": "78827cbe"
    },
    {
      "cell_type": "markdown",
      "source": [
        "## 1.Setting up working environment"
      ],
      "metadata": {},
      "id": "fe7ce465"
    },
    {
      "cell_type": "code",
      "source": [
        "import segmentation_models as sm\n",
        "sm.set_framework('tf.keras')"
      ],
      "outputs": [
        {
          "output_type": "stream",
          "name": "stdout",
          "text": "Segmentation Models: using `keras` framework.\n"
        }
      ],
      "execution_count": 2,
      "metadata": {
        "gather": {
          "logged": 1650366922359
        }
      },
      "id": "28076cfe"
    },
    {
      "cell_type": "code",
      "source": [
        "import tensorflow as tf"
      ],
      "outputs": [],
      "execution_count": 3,
      "metadata": {
        "jupyter": {
          "source_hidden": false,
          "outputs_hidden": false
        },
        "nteract": {
          "transient": {
            "deleting": false
          }
        },
        "gather": {
          "logged": 1650366931868
        }
      },
      "id": "eb3f4006-75d4-4de9-9e5b-e55333569027"
    },
    {
      "cell_type": "code",
      "source": [
        "import azureml.core\r\n",
        "from azureml.core import Workspace, Dataset\r\n",
        "# check core SDK version number\r\n",
        "print(\"Azure ML SDK Version: \", azureml.core.VERSION)\r\n",
        "\r\n",
        "# load workspace configuration from the config.json file in the current folder.\r\n",
        "ws = Workspace.from_config()\r\n",
        "print(ws.name, ws.location, ws.resource_group, sep='\\t')"
      ],
      "outputs": [
        {
          "output_type": "stream",
          "name": "stdout",
          "text": "Azure ML SDK Version:  1.39.0\ndocs-ws\tfrancecentral\topenclassrooms\n"
        }
      ],
      "execution_count": 4,
      "metadata": {
        "jupyter": {
          "source_hidden": false,
          "outputs_hidden": false
        },
        "nteract": {
          "transient": {
            "deleting": false
          }
        },
        "gather": {
          "logged": 1650366934512
        }
      },
      "id": "0e7ae531-8551-41ec-a641-7889fc859d15"
    },
    {
      "cell_type": "markdown",
      "source": [
        "## 2. Segmentation model loading"
      ],
      "metadata": {},
      "id": "4a016d58"
    },
    {
      "cell_type": "code",
      "source": [
        "# define network parameters\n",
        "n_classes = 9\n",
        "activation = 'softmax'\n",
        "BACKBONE = 'efficientnetb3' #'mobilenetv2'\n",
        "preprocess_input = sm.get_preprocessing(BACKBONE)\n",
        "\n",
        "#create model\n",
        "model = sm.PSPNet(BACKBONE,encoder_weights='imagenet',encoder_freeze=True, classes=n_classes, activation=activation)\n",
        "model.summary()"
      ],
      "outputs": [
        {
          "output_type": "stream",
          "name": "stdout",
          "text": "Downloading data from https://github.com/Callidior/keras-applications/releases/download/efficientnet/efficientnet-b3_weights_tf_dim_ordering_tf_kernels_autoaugment_notop.h5\n44113920/44107200 [==============================] - 1s 0us/step\b\b\b\b\b\b\b\b\b\b\b\b\b\b\b\b\b\b\b\b\b\b\b\b\b\b\b\b\b\b\b\b\b\b\b\b\b\b\b\b\b\b\b\b\b\b\b\b\b\b\b\b\b\b\b\b\n44122112/44107200 [==============================] - 1s 0us/step\nModel: \"model\"\n__________________________________________________________________________________________________\n Layer (type)                   Output Shape         Param #     Connected to                     \n==================================================================================================\n input_1 (InputLayer)           [(None, 384, 384, 3  0           []                               \n                                )]                                                                \n                                                                                                  \n stem_conv (Conv2D)             (None, 192, 192, 40  1080        ['input_1[0][0]']                \n                                )                                                                 \n                                                                                                  \n stem_bn (BatchNormalization)   (None, 192, 192, 40  160         ['stem_conv[0][0]']              \n                                )                                                                 \n                                                                                                  \n stem_activation (Activation)   (None, 192, 192, 40  0           ['stem_bn[0][0]']                \n                                )                                                                 \n                                                                                                  \n block1a_dwconv (DepthwiseConv2  (None, 192, 192, 40  360        ['stem_activation[0][0]']        \n D)                             )                                                                 \n                                                                                                  \n block1a_bn (BatchNormalization  (None, 192, 192, 40  160        ['block1a_dwconv[0][0]']         \n )                              )                                                                 \n                                                                                                  \n block1a_activation (Activation  (None, 192, 192, 40  0          ['block1a_bn[0][0]']             \n )                              )                                                                 \n                                                                                                  \n block1a_se_squeeze (GlobalAver  (None, 40)          0           ['block1a_activation[0][0]']     \n agePooling2D)                                                                                    \n                                                                                                  \n block1a_se_reshape (Reshape)   (None, 1, 1, 40)     0           ['block1a_se_squeeze[0][0]']     \n                                                                                                  \n block1a_se_reduce (Conv2D)     (None, 1, 1, 10)     410         ['block1a_se_reshape[0][0]']     \n                                                                                                  \n block1a_se_expand (Conv2D)     (None, 1, 1, 40)     440         ['block1a_se_reduce[0][0]']      \n                                                                                                  \n block1a_se_excite (Multiply)   (None, 192, 192, 40  0           ['block1a_activation[0][0]',     \n                                )                                 'block1a_se_expand[0][0]']      \n                                                                                                  \n block1a_project_conv (Conv2D)  (None, 192, 192, 24  960         ['block1a_se_excite[0][0]']      \n                                )                                                                 \n                                                                                                  \n block1a_project_bn (BatchNorma  (None, 192, 192, 24  96         ['block1a_project_conv[0][0]']   \n lization)                      )                                                                 \n                                                                                                  \n block1b_dwconv (DepthwiseConv2  (None, 192, 192, 24  216        ['block1a_project_bn[0][0]']     \n D)                             )                                                                 \n                                                                                                  \n block1b_bn (BatchNormalization  (None, 192, 192, 24  96         ['block1b_dwconv[0][0]']         \n )                              )                                                                 \n                                                                                                  \n block1b_activation (Activation  (None, 192, 192, 24  0          ['block1b_bn[0][0]']             \n )                              )                                                                 \n                                                                                                  \n block1b_se_squeeze (GlobalAver  (None, 24)          0           ['block1b_activation[0][0]']     \n agePooling2D)                                                                                    \n                                                                                                  \n block1b_se_reshape (Reshape)   (None, 1, 1, 24)     0           ['block1b_se_squeeze[0][0]']     \n                                                                                                  \n block1b_se_reduce (Conv2D)     (None, 1, 1, 6)      150         ['block1b_se_reshape[0][0]']     \n                                                                                                  \n block1b_se_expand (Conv2D)     (None, 1, 1, 24)     168         ['block1b_se_reduce[0][0]']      \n                                                                                                  \n block1b_se_excite (Multiply)   (None, 192, 192, 24  0           ['block1b_activation[0][0]',     \n                                )                                 'block1b_se_expand[0][0]']      \n                                                                                                  \n block1b_project_conv (Conv2D)  (None, 192, 192, 24  576         ['block1b_se_excite[0][0]']      \n                                )                                                                 \n                                                                                                  \n block1b_project_bn (BatchNorma  (None, 192, 192, 24  96         ['block1b_project_conv[0][0]']   \n lization)                      )                                                                 \n                                                                                                  \n block1b_drop (FixedDropout)    (None, 192, 192, 24  0           ['block1b_project_bn[0][0]']     \n                                )                                                                 \n                                                                                                  \n block1b_add (Add)              (None, 192, 192, 24  0           ['block1b_drop[0][0]',           \n                                )                                 'block1a_project_bn[0][0]']     \n                                                                                                  \n block2a_expand_conv (Conv2D)   (None, 192, 192, 14  3456        ['block1b_add[0][0]']            \n                                4)                                                                \n                                                                                                  \n block2a_expand_bn (BatchNormal  (None, 192, 192, 14  576        ['block2a_expand_conv[0][0]']    \n ization)                       4)                                                                \n                                                                                                  \n block2a_expand_activation (Act  (None, 192, 192, 14  0          ['block2a_expand_bn[0][0]']      \n ivation)                       4)                                                                \n                                                                                                  \n block2a_dwconv (DepthwiseConv2  (None, 96, 96, 144)  1296       ['block2a_expand_activation[0][0]\n D)                                                              ']                               \n                                                                                                  \n block2a_bn (BatchNormalization  (None, 96, 96, 144)  576        ['block2a_dwconv[0][0]']         \n )                                                                                                \n                                                                                                  \n block2a_activation (Activation  (None, 96, 96, 144)  0          ['block2a_bn[0][0]']             \n )                                                                                                \n                                                                                                  \n block2a_se_squeeze (GlobalAver  (None, 144)         0           ['block2a_activation[0][0]']     \n agePooling2D)                                                                                    \n                                                                                                  \n block2a_se_reshape (Reshape)   (None, 1, 1, 144)    0           ['block2a_se_squeeze[0][0]']     \n                                                                                                  \n block2a_se_reduce (Conv2D)     (None, 1, 1, 6)      870         ['block2a_se_reshape[0][0]']     \n                                                                                                  \n block2a_se_expand (Conv2D)     (None, 1, 1, 144)    1008        ['block2a_se_reduce[0][0]']      \n                                                                                                  \n block2a_se_excite (Multiply)   (None, 96, 96, 144)  0           ['block2a_activation[0][0]',     \n                                                                  'block2a_se_expand[0][0]']      \n                                                                                                  \n block2a_project_conv (Conv2D)  (None, 96, 96, 32)   4608        ['block2a_se_excite[0][0]']      \n                                                                                                  \n block2a_project_bn (BatchNorma  (None, 96, 96, 32)  128         ['block2a_project_conv[0][0]']   \n lization)                                                                                        \n                                                                                                  \n block2b_expand_conv (Conv2D)   (None, 96, 96, 192)  6144        ['block2a_project_bn[0][0]']     \n                                                                                                  \n block2b_expand_bn (BatchNormal  (None, 96, 96, 192)  768        ['block2b_expand_conv[0][0]']    \n ization)                                                                                         \n                                                                                                  \n block2b_expand_activation (Act  (None, 96, 96, 192)  0          ['block2b_expand_bn[0][0]']      \n ivation)                                                                                         \n                                                                                                  \n block2b_dwconv (DepthwiseConv2  (None, 96, 96, 192)  1728       ['block2b_expand_activation[0][0]\n D)                                                              ']                               \n                                                                                                  \n block2b_bn (BatchNormalization  (None, 96, 96, 192)  768        ['block2b_dwconv[0][0]']         \n )                                                                                                \n                                                                                                  \n block2b_activation (Activation  (None, 96, 96, 192)  0          ['block2b_bn[0][0]']             \n )                                                                                                \n                                                                                                  \n block2b_se_squeeze (GlobalAver  (None, 192)         0           ['block2b_activation[0][0]']     \n agePooling2D)                                                                                    \n                                                                                                  \n block2b_se_reshape (Reshape)   (None, 1, 1, 192)    0           ['block2b_se_squeeze[0][0]']     \n                                                                                                  \n block2b_se_reduce (Conv2D)     (None, 1, 1, 8)      1544        ['block2b_se_reshape[0][0]']     \n                                                                                                  \n block2b_se_expand (Conv2D)     (None, 1, 1, 192)    1728        ['block2b_se_reduce[0][0]']      \n                                                                                                  \n block2b_se_excite (Multiply)   (None, 96, 96, 192)  0           ['block2b_activation[0][0]',     \n                                                                  'block2b_se_expand[0][0]']      \n                                                                                                  \n block2b_project_conv (Conv2D)  (None, 96, 96, 32)   6144        ['block2b_se_excite[0][0]']      \n                                                                                                  \n block2b_project_bn (BatchNorma  (None, 96, 96, 32)  128         ['block2b_project_conv[0][0]']   \n lization)                                                                                        \n                                                                                                  \n block2b_drop (FixedDropout)    (None, 96, 96, 32)   0           ['block2b_project_bn[0][0]']     \n                                                                                                  \n block2b_add (Add)              (None, 96, 96, 32)   0           ['block2b_drop[0][0]',           \n                                                                  'block2a_project_bn[0][0]']     \n                                                                                                  \n block2c_expand_conv (Conv2D)   (None, 96, 96, 192)  6144        ['block2b_add[0][0]']            \n                                                                                                  \n block2c_expand_bn (BatchNormal  (None, 96, 96, 192)  768        ['block2c_expand_conv[0][0]']    \n ization)                                                                                         \n                                                                                                  \n block2c_expand_activation (Act  (None, 96, 96, 192)  0          ['block2c_expand_bn[0][0]']      \n ivation)                                                                                         \n                                                                                                  \n block2c_dwconv (DepthwiseConv2  (None, 96, 96, 192)  1728       ['block2c_expand_activation[0][0]\n D)                                                              ']                               \n                                                                                                  \n block2c_bn (BatchNormalization  (None, 96, 96, 192)  768        ['block2c_dwconv[0][0]']         \n )                                                                                                \n                                                                                                  \n block2c_activation (Activation  (None, 96, 96, 192)  0          ['block2c_bn[0][0]']             \n )                                                                                                \n                                                                                                  \n block2c_se_squeeze (GlobalAver  (None, 192)         0           ['block2c_activation[0][0]']     \n agePooling2D)                                                                                    \n                                                                                                  \n block2c_se_reshape (Reshape)   (None, 1, 1, 192)    0           ['block2c_se_squeeze[0][0]']     \n                                                                                                  \n block2c_se_reduce (Conv2D)     (None, 1, 1, 8)      1544        ['block2c_se_reshape[0][0]']     \n                                                                                                  \n block2c_se_expand (Conv2D)     (None, 1, 1, 192)    1728        ['block2c_se_reduce[0][0]']      \n                                                                                                  \n block2c_se_excite (Multiply)   (None, 96, 96, 192)  0           ['block2c_activation[0][0]',     \n                                                                  'block2c_se_expand[0][0]']      \n                                                                                                  \n block2c_project_conv (Conv2D)  (None, 96, 96, 32)   6144        ['block2c_se_excite[0][0]']      \n                                                                                                  \n block2c_project_bn (BatchNorma  (None, 96, 96, 32)  128         ['block2c_project_conv[0][0]']   \n lization)                                                                                        \n                                                                                                  \n block2c_drop (FixedDropout)    (None, 96, 96, 32)   0           ['block2c_project_bn[0][0]']     \n                                                                                                  \n block2c_add (Add)              (None, 96, 96, 32)   0           ['block2c_drop[0][0]',           \n                                                                  'block2b_add[0][0]']            \n                                                                                                  \n block3a_expand_conv (Conv2D)   (None, 96, 96, 192)  6144        ['block2c_add[0][0]']            \n                                                                                                  \n block3a_expand_bn (BatchNormal  (None, 96, 96, 192)  768        ['block3a_expand_conv[0][0]']    \n ization)                                                                                         \n                                                                                                  \n block3a_expand_activation (Act  (None, 96, 96, 192)  0          ['block3a_expand_bn[0][0]']      \n ivation)                                                                                         \n                                                                                                  \n block3a_dwconv (DepthwiseConv2  (None, 48, 48, 192)  4800       ['block3a_expand_activation[0][0]\n D)                                                              ']                               \n                                                                                                  \n block3a_bn (BatchNormalization  (None, 48, 48, 192)  768        ['block3a_dwconv[0][0]']         \n )                                                                                                \n                                                                                                  \n block3a_activation (Activation  (None, 48, 48, 192)  0          ['block3a_bn[0][0]']             \n )                                                                                                \n                                                                                                  \n block3a_se_squeeze (GlobalAver  (None, 192)         0           ['block3a_activation[0][0]']     \n agePooling2D)                                                                                    \n                                                                                                  \n block3a_se_reshape (Reshape)   (None, 1, 1, 192)    0           ['block3a_se_squeeze[0][0]']     \n                                                                                                  \n block3a_se_reduce (Conv2D)     (None, 1, 1, 8)      1544        ['block3a_se_reshape[0][0]']     \n                                                                                                  \n block3a_se_expand (Conv2D)     (None, 1, 1, 192)    1728        ['block3a_se_reduce[0][0]']      \n                                                                                                  \n block3a_se_excite (Multiply)   (None, 48, 48, 192)  0           ['block3a_activation[0][0]',     \n                                                                  'block3a_se_expand[0][0]']      \n                                                                                                  \n block3a_project_conv (Conv2D)  (None, 48, 48, 48)   9216        ['block3a_se_excite[0][0]']      \n                                                                                                  \n block3a_project_bn (BatchNorma  (None, 48, 48, 48)  192         ['block3a_project_conv[0][0]']   \n lization)                                                                                        \n                                                                                                  \n block3b_expand_conv (Conv2D)   (None, 48, 48, 288)  13824       ['block3a_project_bn[0][0]']     \n                                                                                                  \n block3b_expand_bn (BatchNormal  (None, 48, 48, 288)  1152       ['block3b_expand_conv[0][0]']    \n ization)                                                                                         \n                                                                                                  \n block3b_expand_activation (Act  (None, 48, 48, 288)  0          ['block3b_expand_bn[0][0]']      \n ivation)                                                                                         \n                                                                                                  \n block3b_dwconv (DepthwiseConv2  (None, 48, 48, 288)  7200       ['block3b_expand_activation[0][0]\n D)                                                              ']                               \n                                                                                                  \n block3b_bn (BatchNormalization  (None, 48, 48, 288)  1152       ['block3b_dwconv[0][0]']         \n )                                                                                                \n                                                                                                  \n block3b_activation (Activation  (None, 48, 48, 288)  0          ['block3b_bn[0][0]']             \n )                                                                                                \n                                                                                                  \n block3b_se_squeeze (GlobalAver  (None, 288)         0           ['block3b_activation[0][0]']     \n agePooling2D)                                                                                    \n                                                                                                  \n block3b_se_reshape (Reshape)   (None, 1, 1, 288)    0           ['block3b_se_squeeze[0][0]']     \n                                                                                                  \n block3b_se_reduce (Conv2D)     (None, 1, 1, 12)     3468        ['block3b_se_reshape[0][0]']     \n                                                                                                  \n block3b_se_expand (Conv2D)     (None, 1, 1, 288)    3744        ['block3b_se_reduce[0][0]']      \n                                                                                                  \n block3b_se_excite (Multiply)   (None, 48, 48, 288)  0           ['block3b_activation[0][0]',     \n                                                                  'block3b_se_expand[0][0]']      \n                                                                                                  \n block3b_project_conv (Conv2D)  (None, 48, 48, 48)   13824       ['block3b_se_excite[0][0]']      \n                                                                                                  \n block3b_project_bn (BatchNorma  (None, 48, 48, 48)  192         ['block3b_project_conv[0][0]']   \n lization)                                                                                        \n                                                                                                  \n block3b_drop (FixedDropout)    (None, 48, 48, 48)   0           ['block3b_project_bn[0][0]']     \n                                                                                                  \n block3b_add (Add)              (None, 48, 48, 48)   0           ['block3b_drop[0][0]',           \n                                                                  'block3a_project_bn[0][0]']     \n                                                                                                  \n block3c_expand_conv (Conv2D)   (None, 48, 48, 288)  13824       ['block3b_add[0][0]']            \n                                                                                                  \n block3c_expand_bn (BatchNormal  (None, 48, 48, 288)  1152       ['block3c_expand_conv[0][0]']    \n ization)                                                                                         \n                                                                                                  \n block3c_expand_activation (Act  (None, 48, 48, 288)  0          ['block3c_expand_bn[0][0]']      \n ivation)                                                                                         \n                                                                                                  \n block3c_dwconv (DepthwiseConv2  (None, 48, 48, 288)  7200       ['block3c_expand_activation[0][0]\n D)                                                              ']                               \n                                                                                                  \n block3c_bn (BatchNormalization  (None, 48, 48, 288)  1152       ['block3c_dwconv[0][0]']         \n )                                                                                                \n                                                                                                  \n block3c_activation (Activation  (None, 48, 48, 288)  0          ['block3c_bn[0][0]']             \n )                                                                                                \n                                                                                                  \n block3c_se_squeeze (GlobalAver  (None, 288)         0           ['block3c_activation[0][0]']     \n agePooling2D)                                                                                    \n                                                                                                  \n block3c_se_reshape (Reshape)   (None, 1, 1, 288)    0           ['block3c_se_squeeze[0][0]']     \n                                                                                                  \n block3c_se_reduce (Conv2D)     (None, 1, 1, 12)     3468        ['block3c_se_reshape[0][0]']     \n                                                                                                  \n block3c_se_expand (Conv2D)     (None, 1, 1, 288)    3744        ['block3c_se_reduce[0][0]']      \n                                                                                                  \n block3c_se_excite (Multiply)   (None, 48, 48, 288)  0           ['block3c_activation[0][0]',     \n                                                                  'block3c_se_expand[0][0]']      \n                                                                                                  \n block3c_project_conv (Conv2D)  (None, 48, 48, 48)   13824       ['block3c_se_excite[0][0]']      \n                                                                                                  \n block3c_project_bn (BatchNorma  (None, 48, 48, 48)  192         ['block3c_project_conv[0][0]']   \n lization)                                                                                        \n                                                                                                  \n block3c_drop (FixedDropout)    (None, 48, 48, 48)   0           ['block3c_project_bn[0][0]']     \n                                                                                                  \n block3c_add (Add)              (None, 48, 48, 48)   0           ['block3c_drop[0][0]',           \n                                                                  'block3b_add[0][0]']            \n                                                                                                  \n block4a_expand_conv (Conv2D)   (None, 48, 48, 288)  13824       ['block3c_add[0][0]']            \n                                                                                                  \n block4a_expand_bn (BatchNormal  (None, 48, 48, 288)  1152       ['block4a_expand_conv[0][0]']    \n ization)                                                                                         \n                                                                                                  \n block4a_expand_activation (Act  (None, 48, 48, 288)  0          ['block4a_expand_bn[0][0]']      \n ivation)                                                                                         \n                                                                                                  \n psp_level1_pooling (AveragePoo  (None, 1, 1, 288)   0           ['block4a_expand_activation[0][0]\n ling2D)                                                         ']                               \n                                                                                                  \n psp_level2_pooling (AveragePoo  (None, 2, 2, 288)   0           ['block4a_expand_activation[0][0]\n ling2D)                                                         ']                               \n                                                                                                  \n psp_level3_pooling (AveragePoo  (None, 3, 3, 288)   0           ['block4a_expand_activation[0][0]\n ling2D)                                                         ']                               \n                                                                                                  \n psp_level6_pooling (AveragePoo  (None, 6, 6, 288)   0           ['block4a_expand_activation[0][0]\n ling2D)                                                         ']                               \n                                                                                                  \n psp_level1_conv (Conv2D)       (None, 1, 1, 512)    147456      ['psp_level1_pooling[0][0]']     \n                                                                                                  \n psp_level2_conv (Conv2D)       (None, 2, 2, 512)    147456      ['psp_level2_pooling[0][0]']     \n                                                                                                  \n psp_level3_conv (Conv2D)       (None, 3, 3, 512)    147456      ['psp_level3_pooling[0][0]']     \n                                                                                                  \n psp_level6_conv (Conv2D)       (None, 6, 6, 512)    147456      ['psp_level6_pooling[0][0]']     \n                                                                                                  \n psp_level1_bn (BatchNormalizat  (None, 1, 1, 512)   2048        ['psp_level1_conv[0][0]']        \n ion)                                                                                             \n                                                                                                  \n psp_level2_bn (BatchNormalizat  (None, 2, 2, 512)   2048        ['psp_level2_conv[0][0]']        \n ion)                                                                                             \n                                                                                                  \n psp_level3_bn (BatchNormalizat  (None, 3, 3, 512)   2048        ['psp_level3_conv[0][0]']        \n ion)                                                                                             \n                                                                                                  \n psp_level6_bn (BatchNormalizat  (None, 6, 6, 512)   2048        ['psp_level6_conv[0][0]']        \n ion)                                                                                             \n                                                                                                  \n psp_level1_relu (Activation)   (None, 1, 1, 512)    0           ['psp_level1_bn[0][0]']          \n                                                                                                  \n psp_level2_relu (Activation)   (None, 2, 2, 512)    0           ['psp_level2_bn[0][0]']          \n                                                                                                  \n psp_level3_relu (Activation)   (None, 3, 3, 512)    0           ['psp_level3_bn[0][0]']          \n                                                                                                  \n psp_level6_relu (Activation)   (None, 6, 6, 512)    0           ['psp_level6_bn[0][0]']          \n                                                                                                  \n psp_level1_upsampling (UpSampl  (None, 48, 48, 512)  0          ['psp_level1_relu[0][0]']        \n ing2D)                                                                                           \n                                                                                                  \n psp_level2_upsampling (UpSampl  (None, 48, 48, 512)  0          ['psp_level2_relu[0][0]']        \n ing2D)                                                                                           \n                                                                                                  \n psp_level3_upsampling (UpSampl  (None, 48, 48, 512)  0          ['psp_level3_relu[0][0]']        \n ing2D)                                                                                           \n                                                                                                  \n psp_level6_upsampling (UpSampl  (None, 48, 48, 512)  0          ['psp_level6_relu[0][0]']        \n ing2D)                                                                                           \n                                                                                                  \n psp_concat (Concatenate)       (None, 48, 48, 2336  0           ['block4a_expand_activation[0][0]\n                                )                                ',                               \n                                                                  'psp_level1_upsampling[0][0]',  \n                                                                  'psp_level2_upsampling[0][0]',  \n                                                                  'psp_level3_upsampling[0][0]',  \n                                                                  'psp_level6_upsampling[0][0]']  \n                                                                                                  \n aggregation_conv (Conv2D)      (None, 48, 48, 512)  1196032     ['psp_concat[0][0]']             \n                                                                                                  \n aggregation_bn (BatchNormaliza  (None, 48, 48, 512)  2048       ['aggregation_conv[0][0]']       \n tion)                                                                                            \n                                                                                                  \n aggregation_relu (Activation)  (None, 48, 48, 512)  0           ['aggregation_bn[0][0]']         \n                                                                                                  \n final_conv (Conv2D)            (None, 48, 48, 9)    41481       ['aggregation_relu[0][0]']       \n                                                                                                  \n final_upsampling (UpSampling2D  (None, 384, 384, 9)  0          ['final_conv[0][0]']             \n )                                                                                                \n                                                                                                  \n softmax (Activation)           (None, 384, 384, 9)  0           ['final_upsampling[0][0]']       \n                                                                                                  \n==================================================================================================\nTotal params: 2,022,215\nTrainable params: 1,839,001\nNon-trainable params: 183,214\n__________________________________________________________________________________________________\n"
        }
      ],
      "execution_count": 5,
      "metadata": {
        "gather": {
          "logged": 1650366950305
        }
      },
      "id": "1df81588-2be3-4201-b51a-4ea964ba69be"
    },
    {
      "cell_type": "code",
      "source": [
        "model.load_weights('outputs/pspnet_train.h5')"
      ],
      "outputs": [],
      "execution_count": 14,
      "metadata": {
        "jupyter": {
          "source_hidden": false,
          "outputs_hidden": false
        },
        "nteract": {
          "transient": {
            "deleting": false
          }
        },
        "gather": {
          "logged": 1650367593129
        }
      },
      "id": "f1d4a40f-3601-49b7-93b7-6ed74887d255"
    },
    {
      "cell_type": "code",
      "source": [
        "model.save('outputs/pspnet_train')"
      ],
      "outputs": [
        {
          "output_type": "stream",
          "name": "stdout",
          "text": "WARNING:tensorflow:Compiled the loaded model, but the compiled metrics have yet to be built. `model.compile_metrics` will be empty until you train or evaluate the model.\nINFO:tensorflow:Assets written to: outputs/pspnet_train/assets\n"
        }
      ],
      "execution_count": 15,
      "metadata": {
        "jupyter": {
          "source_hidden": false,
          "outputs_hidden": false
        },
        "nteract": {
          "transient": {
            "deleting": false
          }
        },
        "gather": {
          "logged": 1650367606694
        }
      },
      "id": "8bee07ea-dddc-41d3-97f1-e69e3cefcaf5"
    },
    {
      "cell_type": "markdown",
      "source": [
        "## 3. Model registrer "
      ],
      "metadata": {
        "nteract": {
          "transient": {
            "deleting": false
          }
        }
      },
      "id": "deb5d4b9-7ef2-496d-95a2-216e3d1ad661"
    },
    {
      "cell_type": "code",
      "source": [
        "   from azureml.core import Model\r\n",
        "   from azureml.core.resource_configuration import ResourceConfiguration\r\n",
        "\r\n",
        "\r\n",
        "   model = Model.register(workspace=ws,\r\n",
        "                          model_name='pspnet_model',                # Name of the registered model in your workspace.\r\n",
        "                          model_path='outputs/pspnet_train',  # Local file to upload and register as a model.\r\n",
        "                          resource_configuration=ResourceConfiguration(cpu=1, memory_in_gb=2),\r\n",
        "                          description='semantic segmentation model for driving scenes',\r\n",
        "                          tags={'area': 'roads', 'type': 'semantic segmentation'})\r\n",
        "\r\n",
        "   print('Name:', model.name)\r\n",
        "   print('Version:', model.version)"
      ],
      "outputs": [
        {
          "output_type": "stream",
          "name": "stdout",
          "text": "Registering model pspnet_model\nName: pspnet_model\nVersion: 3\n"
        }
      ],
      "execution_count": 16,
      "metadata": {
        "jupyter": {
          "source_hidden": false,
          "outputs_hidden": false
        },
        "nteract": {
          "transient": {
            "deleting": false
          }
        },
        "gather": {
          "logged": 1650367653397
        }
      },
      "id": "25b5540d-1095-4387-8236-9596099b47eb"
    }
  ],
  "metadata": {
    "kernelspec": {
      "name": "azureml_py38_pt_tf",
      "language": "python",
      "display_name": "Python 3.8 - Pytorch and Tensorflow"
    },
    "language_info": {
      "name": "python",
      "version": "3.8.5",
      "mimetype": "text/x-python",
      "codemirror_mode": {
        "name": "ipython",
        "version": 3
      },
      "pygments_lexer": "ipython3",
      "nbconvert_exporter": "python",
      "file_extension": ".py"
    },
    "kernel_info": {
      "name": "azureml_py38_pt_tf"
    },
    "nteract": {
      "version": "nteract-front-end@1.0.0"
    },
    "microsoft": {
      "host": {
        "AzureML": {
          "notebookHasBeenCompleted": true
        }
      }
    }
  },
  "nbformat": 4,
  "nbformat_minor": 5
}